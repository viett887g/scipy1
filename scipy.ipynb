{
  "nbformat": 4,
  "nbformat_minor": 0,
  "metadata": {
    "colab": {
      "provenance": [],
      "collapsed_sections": [],
      "authorship_tag": "ABX9TyP2eVuWXaneTM/krwQrhtHb",
      "include_colab_link": true
    },
    "kernelspec": {
      "name": "python3",
      "display_name": "Python 3"
    },
    "language_info": {
      "name": "python"
    }
  },
  "cells": [
    {
      "cell_type": "markdown",
      "metadata": {
        "id": "view-in-github",
        "colab_type": "text"
      },
      "source": [
        "<a href=\"https://colab.research.google.com/github/viett887g/scipy1/blob/main/scipy.ipynb\" target=\"_parent\"><img src=\"https://colab.research.google.com/assets/colab-badge.svg\" alt=\"Open In Colab\"/></a>"
      ]
    },
    {
      "cell_type": "code",
      "execution_count": 38,
      "metadata": {
        "id": "V7GQUamp2MFm"
      },
      "outputs": [],
      "source": [
        "import numpy as np\n",
        "from scipy.optimize import minimize\n",
        "import os\n",
        "from scipy import optimize\n",
        "from sklearn import preprocessing"
      ]
    },
    {
      "cell_type": "code",
      "source": [
        "#a= /content/ex2data1.txt"
      ],
      "metadata": {
        "id": "eIewmzQS2PCZ"
      },
      "execution_count": 39,
      "outputs": []
    },
    {
      "cell_type": "code",
      "source": [
        "def readData(filePath, filename):\n",
        "  data = np.loadtxt(os.path.join\n",
        "          (filePath, filename), delimiter = ',')\n",
        "  #data = preprocessing.normalize(data, axis=0)\n",
        "  data=preprocessing.MinMaxScaler().fit_transform(data)\n",
        "  X = data[:,:-1]\n",
        "  y = data[:, -1]\n",
        "  m,n=X.shape[0],X.shape[1]\n",
        "  X=np.reshape(X,(m,n))\n",
        "  y = np.reshape(y, (m,1))\n",
        "  x0 = np.ones((m,1))\n",
        "  X = np.column_stack([x0, X])\n",
        "  return X,y"
      ],
      "metadata": {
        "id": "xkDWMGRR2pbJ"
      },
      "execution_count": 40,
      "outputs": []
    },
    {
      "cell_type": "code",
      "source": [
        "def featureVectorScaling(data):\n",
        "  tb=np.mean(data)\n",
        "  ln=np.max(data)\n",
        "  nn=np.min(data)\n",
        "  data_scl=(data-tb)/(ln-nn)\n",
        "  return data_scl\n",
        "def normalizeData(X):\n",
        "    X_scl = X[:, 0]\n",
        "    for i in range(1, X.shape[1]):\n",
        "        scl = featureVectorScaling(X[:, i])\n",
        "        X_scl = np.column_stack([X_scl, scl])\n",
        "    return X_scl"
      ],
      "metadata": {
        "id": "zcc04rxh5hCA"
      },
      "execution_count": 41,
      "outputs": []
    },
    {
      "cell_type": "code",
      "source": [
        "def sigmoid(X, w):\n",
        "  Hw= 1/(1+np.exp(-np.dot(X, w)))\n",
        "  return Hw"
      ],
      "metadata": {
        "id": "bj91xeTm6RTv"
      },
      "execution_count": 42,
      "outputs": []
    },
    {
      "cell_type": "code",
      "source": [
        "def loss(w, X, y):\n",
        "    m = X.shape[0]\n",
        "    h = sigmoid(X, w)\n",
        "    result = (-1 / m) * np.sum(np.dot(y.T, np.log(h)) + np.dot((1 - y).T, np.log(1 - h)))\n",
        "    return result"
      ],
      "metadata": {
        "id": "6BFfX5X8GHEF"
      },
      "execution_count": 43,
      "outputs": []
    },
    {
      "cell_type": "code",
      "source": [
        "def scipy(X,y,w,n):\n",
        "    result = optimize.minimize(fun=loss, x0=w, args=(X,y),method='Powell',options={\"maxiter\":n} )\n",
        "    w_optimal = result.x\n",
        "    J_optimal = result.fun\n",
        "    return w_optimal, J_optimal"
      ],
      "metadata": {
        "id": "YMk2_5-E6rPP"
      },
      "execution_count": 44,
      "outputs": []
    },
    {
      "cell_type": "code",
      "source": [
        "def main():\n",
        "    X, y = readData('/content','ex2data1.txt')\n",
        "    X = normalizeData(X)\n",
        "    n = X.shape[1]\n",
        "    w = np.zeros(n)\n",
        "    n = 2000\n",
        "    w_opt, J_opt = scipy(X,y,w, n)\n",
        "    print('Trong so w toi uu la: ', w_opt)\n",
        "    print('Gia tri Loss toi uu: ', J_opt)\n",
        "\n",
        "if __name__ == \"__main__\":\n",
        "    main()"
      ],
      "metadata": {
        "colab": {
          "base_uri": "https://localhost:8080/"
        },
        "id": "wc_oKgST7Tgf",
        "outputId": "b1164ed9-a851-48c3-b20d-8ed59d07789b"
      },
      "execution_count": 45,
      "outputs": [
        {
          "output_type": "stream",
          "name": "stdout",
          "text": [
            "Trong so w toi uu la:  [ 1.71842335 14.38827703 13.75330863]\n",
            "Gia tri Loss toi uu:  0.20349770166758055\n"
          ]
        }
      ]
    }
  ]
}